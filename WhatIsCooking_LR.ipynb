{
  "cells": [
    {
      "cell_type": "markdown",
      "metadata": {
        "id": "view-in-github",
        "colab_type": "text"
      },
      "source": [
        "<a href=\"https://colab.research.google.com/github/Brainbellworld/DATA-SCIENCE_ML_AI/blob/main/WhatIsCooking_LR.ipynb\" target=\"_parent\"><img src=\"https://colab.research.google.com/assets/colab-badge.svg\" alt=\"Open In Colab\"/></a>"
      ]
    },
    {
      "cell_type": "code",
      "execution_count": null,
      "id": "069903db",
      "metadata": {
        "id": "069903db",
        "outputId": "548af674-1690-424f-a469-f5ec09e50b49"
      },
      "outputs": [
        {
          "name": "stdout",
          "output_type": "stream",
          "text": [
            "Done\n"
          ]
        }
      ],
      "source": [
        "import pandas as pd\n",
        "import numpy as np\n",
        "import seaborn as sb\n",
        "import matplotlib.pyplot as plt\n",
        "import warnings\n",
        "%matplotlib inline\n",
        "warnings.filterwarnings('ignore')\n",
        "print('Done')"
      ]
    },
    {
      "cell_type": "code",
      "execution_count": null,
      "id": "15df5fcc",
      "metadata": {
        "id": "15df5fcc"
      },
      "outputs": [],
      "source": [
        "train_data = pd.read_json('train.json')"
      ]
    },
    {
      "cell_type": "code",
      "execution_count": null,
      "id": "9a5aa12d",
      "metadata": {
        "scrolled": true,
        "id": "9a5aa12d",
        "outputId": "d4ecd1fc-2f27-45f9-a726-9b20dde01d82"
      },
      "outputs": [
        {
          "data": {
            "text/html": [
              "<div>\n",
              "<style scoped>\n",
              "    .dataframe tbody tr th:only-of-type {\n",
              "        vertical-align: middle;\n",
              "    }\n",
              "\n",
              "    .dataframe tbody tr th {\n",
              "        vertical-align: top;\n",
              "    }\n",
              "\n",
              "    .dataframe thead th {\n",
              "        text-align: right;\n",
              "    }\n",
              "</style>\n",
              "<table border=\"1\" class=\"dataframe\">\n",
              "  <thead>\n",
              "    <tr style=\"text-align: right;\">\n",
              "      <th></th>\n",
              "      <th>id</th>\n",
              "      <th>cuisine</th>\n",
              "      <th>ingredients</th>\n",
              "    </tr>\n",
              "  </thead>\n",
              "  <tbody>\n",
              "    <tr>\n",
              "      <th>0</th>\n",
              "      <td>10259</td>\n",
              "      <td>greek</td>\n",
              "      <td>[romaine lettuce, black olives, grape tomatoes...</td>\n",
              "    </tr>\n",
              "    <tr>\n",
              "      <th>1</th>\n",
              "      <td>25693</td>\n",
              "      <td>southern_us</td>\n",
              "      <td>[plain flour, ground pepper, salt, tomatoes, g...</td>\n",
              "    </tr>\n",
              "    <tr>\n",
              "      <th>2</th>\n",
              "      <td>20130</td>\n",
              "      <td>filipino</td>\n",
              "      <td>[eggs, pepper, salt, mayonaise, cooking oil, g...</td>\n",
              "    </tr>\n",
              "    <tr>\n",
              "      <th>3</th>\n",
              "      <td>22213</td>\n",
              "      <td>indian</td>\n",
              "      <td>[water, vegetable oil, wheat, salt]</td>\n",
              "    </tr>\n",
              "    <tr>\n",
              "      <th>4</th>\n",
              "      <td>13162</td>\n",
              "      <td>indian</td>\n",
              "      <td>[black pepper, shallots, cornflour, cayenne pe...</td>\n",
              "    </tr>\n",
              "  </tbody>\n",
              "</table>\n",
              "</div>"
            ],
            "text/plain": [
              "      id      cuisine                                        ingredients\n",
              "0  10259        greek  [romaine lettuce, black olives, grape tomatoes...\n",
              "1  25693  southern_us  [plain flour, ground pepper, salt, tomatoes, g...\n",
              "2  20130     filipino  [eggs, pepper, salt, mayonaise, cooking oil, g...\n",
              "3  22213       indian                [water, vegetable oil, wheat, salt]\n",
              "4  13162       indian  [black pepper, shallots, cornflour, cayenne pe..."
            ]
          },
          "execution_count": 3,
          "metadata": {},
          "output_type": "execute_result"
        }
      ],
      "source": [
        "train_data.head()"
      ]
    },
    {
      "cell_type": "markdown",
      "id": "5d9b2557",
      "metadata": {
        "id": "5d9b2557"
      },
      "source": [
        ">To preprocess the data for your machine learning model, you'll need to perform the following steps:\n",
        "\n",
        ">Label Encoding for Cuisine Categories: Convert the cuisine names (e.g., \"indian,\" \"italian,\" etc.) into numerical labels. You can use scikit-learn's LabelEncoder for this.\n",
        "\n",
        ">Text Vectorization for Ingredients: Convert the lists of ingredients into numerical representations. One common method is to use the Bag of Words (BoW) or Term Frequency-Inverse Document Frequency (TF-IDF) vectorization. This will transform the ingredient lists into numerical feature vectors.\n",
        "\n",
        ">Here's a Python code snippet that demonstrates these preprocessing steps:"
      ]
    },
    {
      "cell_type": "code",
      "execution_count": null,
      "id": "a33be25d",
      "metadata": {
        "id": "a33be25d"
      },
      "outputs": [],
      "source": [
        "from sklearn.preprocessing import LabelEncoder\n",
        "from sklearn.feature_extraction.text import TfidfVectorizer\n",
        "\n",
        "\n",
        "# Create a DataFrame from the JSON data\n",
        "train_df = train_data.copy()"
      ]
    },
    {
      "cell_type": "code",
      "execution_count": null,
      "id": "f8db69a9",
      "metadata": {
        "id": "f8db69a9"
      },
      "outputs": [],
      "source": [
        "# Step 1: Label Encoding for Cuisine Categories\n",
        "label_encoder = LabelEncoder()\n",
        "train_df['cuisine_label'] = label_encoder.fit_transform(train_df['cuisine'])"
      ]
    },
    {
      "cell_type": "code",
      "execution_count": null,
      "id": "0bc2a5a2",
      "metadata": {
        "id": "0bc2a5a2"
      },
      "outputs": [],
      "source": [
        "# Step 2: Text Vectorization for Ingredients\n",
        "# Using TF-IDF vectorization\n",
        "tfidf_vectorizer = TfidfVectorizer()\n",
        "ingredient_vectors = tfidf_vectorizer.fit_transform(train_df['ingredients'].apply(lambda x: ' '.join(x)))\n",
        "\n",
        "# Now, you have the 'cuisine_label' column for cuisine labels and 'ingredient_vectors' for ingredient features.\n",
        "\n",
        "# You can use these preprocessed data to train a machine learning model for cuisine prediction.\n",
        "\n",
        "# # This code will encode cuisine labels as numerical values and transform the ingredients into TF-IDF\n",
        "# feature vectors, which can be used as input for your machine learning model. Make sure to apply these steps\n",
        "# to your entire dataset."
      ]
    },
    {
      "cell_type": "code",
      "execution_count": null,
      "id": "38166453",
      "metadata": {
        "id": "38166453",
        "outputId": "79d6443f-dc39-4412-f206-b99c2d2c6852"
      },
      "outputs": [
        {
          "data": {
            "text/plain": [
              "<39774x3010 sparse matrix of type '<class 'numpy.float64'>'\n",
              "\twith 761951 stored elements in Compressed Sparse Row format>"
            ]
          },
          "execution_count": 7,
          "metadata": {},
          "output_type": "execute_result"
        }
      ],
      "source": [
        "ingredient_vectors"
      ]
    },
    {
      "cell_type": "code",
      "execution_count": null,
      "id": "9bd7bebb",
      "metadata": {
        "id": "9bd7bebb",
        "outputId": "7a2e8e20-d24a-40f4-fdfd-ea43ebd57c2e"
      },
      "outputs": [
        {
          "name": "stdout",
          "output_type": "stream",
          "text": [
            "Accuracy: 0.78\n",
            "              precision    recall  f1-score   support\n",
            "\n",
            "   brazilian       0.79      0.52      0.63        84\n",
            "     british       0.69      0.36      0.47       157\n",
            "cajun_creole       0.78      0.65      0.71       328\n",
            "     chinese       0.76      0.86      0.81       510\n",
            "    filipino       0.73      0.54      0.62       136\n",
            "      french       0.60      0.66      0.63       550\n",
            "       greek       0.79      0.67      0.72       249\n",
            "      indian       0.88      0.89      0.88       602\n",
            "       irish       0.62      0.42      0.50       151\n",
            "     italian       0.79      0.91      0.85      1567\n",
            "    jamaican       0.90      0.60      0.72        91\n",
            "    japanese       0.84      0.71      0.77       284\n",
            "      korean       0.84      0.75      0.79       166\n",
            "     mexican       0.90      0.93      0.91      1336\n",
            "    moroccan       0.86      0.73      0.79       166\n",
            "     russian       0.60      0.39      0.48        89\n",
            " southern_us       0.67      0.79      0.72       848\n",
            "     spanish       0.66      0.46      0.54       182\n",
            "        thai       0.81      0.74      0.77       315\n",
            "  vietnamese       0.69      0.49      0.57       144\n",
            "\n",
            "    accuracy                           0.78      7955\n",
            "   macro avg       0.76      0.65      0.69      7955\n",
            "weighted avg       0.78      0.78      0.77      7955\n",
            "\n"
          ]
        }
      ],
      "source": [
        "from sklearn.model_selection import train_test_split\n",
        "from sklearn.linear_model import LogisticRegression\n",
        "from sklearn.metrics import accuracy_score, classification_report\n",
        "\n",
        "# Load your dataset (assuming you have the preprocessed DataFrame from the previous step)\n",
        "# Example: df = pd.read_csv('your_dataset.csv')\n",
        "\n",
        "# Split the data into features (X) and the target (y)\n",
        "x = ingredient_vectors\n",
        "y = train_df['cuisine_label']\n",
        "\n",
        "# Split the data into training and testing sets\n",
        "x_train, x_test, y_train, y_test = train_test_split(x, y, test_size=0.2, random_state=42)\n",
        "\n",
        "# Initialize and train the model (Logistic Regression in this example)\n",
        "model = LogisticRegression(max_iter=1000)\n",
        "model.fit(x_train, y_train)\n",
        "\n",
        "# Make predictions on the test data\n",
        "y_pred = model.predict(x_test)\n",
        "\n",
        "# Evaluate the model\n",
        "accuracy = accuracy_score(y_test, y_pred)\n",
        "report = classification_report(y_test, y_pred, target_names=label_encoder.classes_)\n",
        "\n",
        "print(f\"Accuracy: {accuracy:.2f}\")\n",
        "print(report)\n"
      ]
    },
    {
      "cell_type": "code",
      "execution_count": null,
      "id": "f3ca25ac",
      "metadata": {
        "id": "f3ca25ac"
      },
      "outputs": [],
      "source": [
        "test_df = pd.read_json('test.json')"
      ]
    },
    {
      "cell_type": "code",
      "execution_count": null,
      "id": "6dcc9612",
      "metadata": {
        "id": "6dcc9612"
      },
      "outputs": [],
      "source": [
        "# Preprocess the test data using the same TF-IDF vectorizer\n",
        "test_ingredient_vectors = tfidf_vectorizer.transform(test_df['ingredients'].apply(lambda x: ' '.join(x)))\n",
        "\n",
        "# Make predictions on the test data\n",
        "test_predictions = model.predict(test_ingredient_vectors)\n",
        "\n",
        "# Inverse transform the predicted labels to cuisine names\n",
        "predicted_cuisines = label_encoder.inverse_transform(test_predictions)"
      ]
    },
    {
      "cell_type": "code",
      "execution_count": null,
      "id": "e996015b",
      "metadata": {
        "id": "e996015b"
      },
      "outputs": [],
      "source": [
        "# Add the predicted cuisines to the test DataFrame\n",
        "test_df['cuisine'] = predicted_cuisines\n",
        "\n",
        "# Now, 'test_df' will contain a new column 'predicted_cuisine' with the predicted cuisine labels.\n",
        "# You can save or further analyze the results as needed."
      ]
    },
    {
      "cell_type": "code",
      "execution_count": null,
      "id": "c54203da",
      "metadata": {
        "id": "c54203da",
        "outputId": "52ccbc0b-19cf-4cbf-b4a7-df641df79f36"
      },
      "outputs": [
        {
          "data": {
            "text/html": [
              "<div>\n",
              "<style scoped>\n",
              "    .dataframe tbody tr th:only-of-type {\n",
              "        vertical-align: middle;\n",
              "    }\n",
              "\n",
              "    .dataframe tbody tr th {\n",
              "        vertical-align: top;\n",
              "    }\n",
              "\n",
              "    .dataframe thead th {\n",
              "        text-align: right;\n",
              "    }\n",
              "</style>\n",
              "<table border=\"1\" class=\"dataframe\">\n",
              "  <thead>\n",
              "    <tr style=\"text-align: right;\">\n",
              "      <th></th>\n",
              "      <th>id</th>\n",
              "      <th>ingredients</th>\n",
              "      <th>cuisine</th>\n",
              "    </tr>\n",
              "  </thead>\n",
              "  <tbody>\n",
              "    <tr>\n",
              "      <th>0</th>\n",
              "      <td>18009</td>\n",
              "      <td>[baking powder, eggs, all-purpose flour, raisi...</td>\n",
              "      <td>british</td>\n",
              "    </tr>\n",
              "    <tr>\n",
              "      <th>1</th>\n",
              "      <td>28583</td>\n",
              "      <td>[sugar, egg yolks, corn starch, cream of tarta...</td>\n",
              "      <td>southern_us</td>\n",
              "    </tr>\n",
              "    <tr>\n",
              "      <th>2</th>\n",
              "      <td>41580</td>\n",
              "      <td>[sausage links, fennel bulb, fronds, olive oil...</td>\n",
              "      <td>italian</td>\n",
              "    </tr>\n",
              "    <tr>\n",
              "      <th>3</th>\n",
              "      <td>29752</td>\n",
              "      <td>[meat cuts, file powder, smoked sausage, okra,...</td>\n",
              "      <td>cajun_creole</td>\n",
              "    </tr>\n",
              "    <tr>\n",
              "      <th>4</th>\n",
              "      <td>35687</td>\n",
              "      <td>[ground black pepper, salt, sausage casings, l...</td>\n",
              "      <td>italian</td>\n",
              "    </tr>\n",
              "  </tbody>\n",
              "</table>\n",
              "</div>"
            ],
            "text/plain": [
              "      id                                        ingredients       cuisine\n",
              "0  18009  [baking powder, eggs, all-purpose flour, raisi...       british\n",
              "1  28583  [sugar, egg yolks, corn starch, cream of tarta...   southern_us\n",
              "2  41580  [sausage links, fennel bulb, fronds, olive oil...       italian\n",
              "3  29752  [meat cuts, file powder, smoked sausage, okra,...  cajun_creole\n",
              "4  35687  [ground black pepper, salt, sausage casings, l...       italian"
            ]
          },
          "execution_count": 20,
          "metadata": {},
          "output_type": "execute_result"
        }
      ],
      "source": [
        "test_df.head()"
      ]
    },
    {
      "cell_type": "code",
      "execution_count": null,
      "id": "f45b1018",
      "metadata": {
        "id": "f45b1018",
        "outputId": "a2107556-1f23-4185-9a83-9c2134c796d5"
      },
      "outputs": [
        {
          "data": {
            "text/html": [
              "<div>\n",
              "<style scoped>\n",
              "    .dataframe tbody tr th:only-of-type {\n",
              "        vertical-align: middle;\n",
              "    }\n",
              "\n",
              "    .dataframe tbody tr th {\n",
              "        vertical-align: top;\n",
              "    }\n",
              "\n",
              "    .dataframe thead th {\n",
              "        text-align: right;\n",
              "    }\n",
              "</style>\n",
              "<table border=\"1\" class=\"dataframe\">\n",
              "  <thead>\n",
              "    <tr style=\"text-align: right;\">\n",
              "      <th></th>\n",
              "      <th>id</th>\n",
              "      <th>cuisine</th>\n",
              "    </tr>\n",
              "  </thead>\n",
              "  <tbody>\n",
              "    <tr>\n",
              "      <th>0</th>\n",
              "      <td>18009</td>\n",
              "      <td>british</td>\n",
              "    </tr>\n",
              "    <tr>\n",
              "      <th>1</th>\n",
              "      <td>28583</td>\n",
              "      <td>southern_us</td>\n",
              "    </tr>\n",
              "    <tr>\n",
              "      <th>2</th>\n",
              "      <td>41580</td>\n",
              "      <td>italian</td>\n",
              "    </tr>\n",
              "    <tr>\n",
              "      <th>3</th>\n",
              "      <td>29752</td>\n",
              "      <td>cajun_creole</td>\n",
              "    </tr>\n",
              "    <tr>\n",
              "      <th>4</th>\n",
              "      <td>35687</td>\n",
              "      <td>italian</td>\n",
              "    </tr>\n",
              "  </tbody>\n",
              "</table>\n",
              "</div>"
            ],
            "text/plain": [
              "      id       cuisine\n",
              "0  18009       british\n",
              "1  28583   southern_us\n",
              "2  41580       italian\n",
              "3  29752  cajun_creole\n",
              "4  35687       italian"
            ]
          },
          "execution_count": 21,
          "metadata": {},
          "output_type": "execute_result"
        }
      ],
      "source": [
        "cuisine_submission = test_df.drop('ingredients', axis = 1)\n",
        "cuisine_submission.head()"
      ]
    },
    {
      "cell_type": "code",
      "execution_count": null,
      "id": "e2388c94",
      "metadata": {
        "id": "e2388c94"
      },
      "outputs": [],
      "source": [
        "cuisine_submission.to_csv('cuisine_submission.csv', index=False)"
      ]
    }
  ],
  "metadata": {
    "kernelspec": {
      "display_name": "Python 3",
      "language": "python",
      "name": "python3"
    },
    "language_info": {
      "codemirror_mode": {
        "name": "ipython",
        "version": 3
      },
      "file_extension": ".py",
      "mimetype": "text/x-python",
      "name": "python",
      "nbconvert_exporter": "python",
      "pygments_lexer": "ipython3",
      "version": "3.8.8"
    },
    "colab": {
      "provenance": [],
      "include_colab_link": true
    }
  },
  "nbformat": 4,
  "nbformat_minor": 5
}